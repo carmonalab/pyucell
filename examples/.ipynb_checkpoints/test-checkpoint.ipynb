{
 "cells": [
  {
   "cell_type": "code",
   "execution_count": 18,
   "id": "a6715005-6ca7-4a1a-a0db-873ad888e3fa",
   "metadata": {},
   "outputs": [],
   "source": [
    "import numpy as np\n",
    "from scipy import sparse\n",
    "from scipy.stats import rankdata\n",
    "import scanpy as sc"
   ]
  },
  {
   "cell_type": "markdown",
   "id": "a7a49df7-df93-4bc2-b956-82f707270cf9",
   "metadata": {},
   "source": [
    "Load a test dataset"
   ]
  },
  {
   "cell_type": "code",
   "execution_count": 2,
   "id": "338c4bd3-093c-475b-8f09-b101ab7b6012",
   "metadata": {},
   "outputs": [
    {
     "data": {
      "application/vnd.jupyter.widget-view+json": {
       "model_id": "563e30b196334317ae353c400cae0834",
       "version_major": 2,
       "version_minor": 0
      },
      "text/plain": [
       "  0%|          | 0.00/5.58M [00:00<?, ?B/s]"
      ]
     },
     "metadata": {},
     "output_type": "display_data"
    }
   ],
   "source": [
    "adata = sc.datasets.pbmc3k()"
   ]
  },
  {
   "cell_type": "code",
   "execution_count": 3,
   "id": "1540f24e-5431-4925-b56f-d268fc6d5b31",
   "metadata": {},
   "outputs": [
    {
     "data": {
      "text/plain": [
       "AnnData object with n_obs × n_vars = 2700 × 32738\n",
       "    var: 'gene_ids'"
      ]
     },
     "execution_count": 3,
     "metadata": {},
     "output_type": "execute_result"
    }
   ],
   "source": [
    "adata"
   ]
  },
  {
   "cell_type": "code",
   "execution_count": 13,
   "id": "cf7d0005-5bf2-453d-a456-9d145711a089",
   "metadata": {},
   "outputs": [],
   "source": [
    "# Param\n",
    "layer = None\n",
    "max_rank = 1500\n",
    "chunk_cells = 200\n",
    "ties_method = \"average\""
   ]
  },
  {
   "cell_type": "code",
   "execution_count": 19,
   "id": "505f1079-9de5-421a-9b50-1bc455ebc1fa",
   "metadata": {},
   "outputs": [],
   "source": [
    "X = adata.layers[layer] if layer else adata.X\n",
    "n_cells, n_genes = X.shape\n",
    "\n",
    "# Convert to csc for fast column slicing\n",
    "is_sparse = sparse.issparse(X)\n",
    "if is_sparse:\n",
    "    Xcsc = X.tocsc()\n",
    "else:\n",
    "    Xarr = np.asarray(X)"
   ]
  },
  {
   "cell_type": "code",
   "execution_count": 6,
   "id": "72881a78-a696-4319-9bd1-61ee0ae89c1b",
   "metadata": {},
   "outputs": [
    {
     "data": {
      "text/plain": [
       "Layers with keys: "
      ]
     },
     "execution_count": 6,
     "metadata": {},
     "output_type": "execute_result"
    }
   ],
   "source": [
    "adata.layers"
   ]
  },
  {
   "cell_type": "code",
   "execution_count": 25,
   "id": "30eb27a9-03b2-456b-bcae-fec4a66b1cce",
   "metadata": {},
   "outputs": [],
   "source": [
    "data, rows, cols = [], [], []"
   ]
  },
  {
   "cell_type": "code",
   "execution_count": 26,
   "id": "2c7fd4ca-d634-4139-a7f6-7b4b9410747d",
   "metadata": {},
   "outputs": [],
   "source": [
    "for cstart in range(0, n_cells, chunk_cells):\n",
    "    cend = min(n_cells, cstart + chunk_cells)\n",
    "    if is_sparse:\n",
    "        chunk = Xcsc[cstart:cend, :].T.toarray()  # genes x chunk\n",
    "    else:\n",
    "        chunk = Xarr[cstart:cend, :].T  # genes x chunk\n",
    "    # now chunk is genes x cells_in_chunk\n",
    "    for j in range(chunk.shape[1]):\n",
    "        col = chunk[:, j].astype(float)\n",
    "        col[np.isnan(col)] = -np.inf\n",
    "        ranks = rankdata(-col, method=ties_method)\n",
    "        ranks_clipped = np.minimum(ranks, max_rank).astype(np.int32)\n",
    "        idx = np.nonzero(ranks_clipped > 0)[0]\n",
    "        data.extend(ranks_clipped[idx])\n",
    "        rows.extend(idx)\n",
    "        cols.extend([cstart + j] * len(idx))"
   ]
  },
  {
   "cell_type": "code",
   "execution_count": 42,
   "id": "732d89fb-2d31-40a2-89ba-ecd31928519b",
   "metadata": {},
   "outputs": [
    {
     "data": {
      "text/plain": [
       "range(0, 100)"
      ]
     },
     "execution_count": 42,
     "metadata": {},
     "output_type": "execute_result"
    }
   ],
   "source": [
    "range(chunk.shape[1])"
   ]
  },
  {
   "cell_type": "code",
   "execution_count": 31,
   "id": "a98588a2-a698-41c6-b2e5-90573a642364",
   "metadata": {},
   "outputs": [],
   "source": [
    "ranks_mat = sparse.coo_matrix(\n",
    "    (np.array(data, dtype=np.int32), (np.array(rows, dtype=np.int32), np.array(cols, dtype=np.int32))),\n",
    "    shape=(n_genes, n_cells),\n",
    ").tocsr()"
   ]
  },
  {
   "cell_type": "code",
   "execution_count": 35,
   "id": "3e9ef33b-a6e5-48a0-8e2c-7ab4951ea6f6",
   "metadata": {},
   "outputs": [
    {
     "name": "stdout",
     "output_type": "stream",
     "text": [
      "<Compressed Sparse Row sparse matrix of dtype 'int32'\n",
      "\twith 16 stored elements and shape (4, 4)>\n",
      "  Coords\tValues\n",
      "  (0, 0)\t1500\n",
      "  (0, 1)\t1500\n",
      "  (0, 2)\t1500\n",
      "  (0, 3)\t1500\n",
      "  (1, 0)\t1500\n",
      "  (1, 1)\t1500\n",
      "  (1, 2)\t1500\n",
      "  (1, 3)\t1500\n",
      "  (2, 0)\t1500\n",
      "  (2, 1)\t1500\n",
      "  (2, 2)\t1500\n",
      "  (2, 3)\t1500\n",
      "  (3, 0)\t1500\n",
      "  (3, 1)\t1500\n",
      "  (3, 2)\t1500\n",
      "  (3, 3)\t1500\n"
     ]
    }
   ],
   "source": [
    "print(ranks_mat[1:5, 1:5])"
   ]
  },
  {
   "cell_type": "code",
   "execution_count": 40,
   "id": "6f400ff5-a92a-4951-b5be-b4096c6eb631",
   "metadata": {},
   "outputs": [
    {
     "name": "stdout",
     "output_type": "stream",
     "text": [
      "Top indices: [19154 24673 14247 30970 15745 23794   908 13302 11447 10709]\n",
      "Top values: [1 2 3 4 4 6 7 7 9 9]\n"
     ]
    }
   ],
   "source": [
    "a = ranks_mat[:, 1]\n",
    "a_dense = a.toarray().ravel()\n",
    "\n",
    "top_indices = np.argsort(a_dense)[:10]  # minus sign for descending order\n",
    "top_values = a_dense[top_indices]\n",
    "\n",
    "print(\"Top indices:\", top_indices)\n",
    "print(\"Top values:\", top_values)"
   ]
  },
  {
   "cell_type": "code",
   "execution_count": null,
   "id": "2ba2d399-ed3e-47ed-b66d-638e25d36651",
   "metadata": {},
   "outputs": [],
   "source": []
  }
 ],
 "metadata": {
  "kernelspec": {
   "display_name": "Python 3 (ipykernel)",
   "language": "python",
   "name": "python3"
  },
  "language_info": {
   "codemirror_mode": {
    "name": "ipython",
    "version": 3
   },
   "file_extension": ".py",
   "mimetype": "text/x-python",
   "name": "python",
   "nbconvert_exporter": "python",
   "pygments_lexer": "ipython3",
   "version": "3.11.11"
  }
 },
 "nbformat": 4,
 "nbformat_minor": 5
}
