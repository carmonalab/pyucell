{
 "cells": [
  {
   "cell_type": "markdown",
   "id": "1f66b3b8-8d53-4714-9317-df5fd8d93fea",
   "metadata": {},
   "source": [
    "Simulate an arbitrarily large single-cell object to test pyucell performance"
   ]
  },
  {
   "cell_type": "code",
   "execution_count": 1,
   "id": "a6715005-6ca7-4a1a-a0db-873ad888e3fa",
   "metadata": {},
   "outputs": [],
   "source": [
    "import scanpy as sc\n",
    "import matplotlib.pyplot as plt\n",
    "from scipy import sparse\n",
    "from scipy.stats import rankdata\n",
    "import numpy as np\n",
    "from scipy.sparse import csr_matrix, vstack\n",
    "import pandas as pd\n",
    "from anndata import AnnData"
   ]
  },
  {
   "cell_type": "markdown",
   "id": "5671750e-0942-4b24-864c-39f6c91086cc",
   "metadata": {},
   "source": [
    "Install development version of pyucell using:\n",
    "%pip install git+https://github.com/carmonalab/pyucell.git@master"
   ]
  },
  {
   "cell_type": "code",
   "execution_count": 2,
   "id": "7fb92654-32b6-40e6-9820-9369e45d9e01",
   "metadata": {},
   "outputs": [],
   "source": [
    "import pyucell"
   ]
  },
  {
   "cell_type": "markdown",
   "id": "a7a49df7-df93-4bc2-b956-82f707270cf9",
   "metadata": {},
   "source": [
    "Load a test dataset"
   ]
  },
  {
   "cell_type": "code",
   "execution_count": 3,
   "id": "338c4bd3-093c-475b-8f09-b101ab7b6012",
   "metadata": {},
   "outputs": [],
   "source": [
    "adata = sc.datasets.pbmc3k()"
   ]
  },
  {
   "cell_type": "code",
   "execution_count": 4,
   "id": "1540f24e-5431-4925-b56f-d268fc6d5b31",
   "metadata": {},
   "outputs": [
    {
     "data": {
      "text/plain": [
       "AnnData object with n_obs × n_vars = 2700 × 32738\n",
       "    var: 'gene_ids'"
      ]
     },
     "execution_count": 4,
     "metadata": {},
     "output_type": "execute_result"
    }
   ],
   "source": [
    "adata"
   ]
  },
  {
   "cell_type": "markdown",
   "id": "9226ad8c-ad1a-431b-9d93-42ec47f92148",
   "metadata": {},
   "source": [
    "Generate an arbitrarily large object (e.g. 100k)"
   ]
  },
  {
   "cell_type": "code",
   "execution_count": 18,
   "id": "c63fed58-cfa4-461a-a8b8-2fd89df44b67",
   "metadata": {},
   "outputs": [
    {
     "name": "stderr",
     "output_type": "stream",
     "text": [
      "/Users/mass/.pyenv/versions/3.11.11/envs/scverse/lib/python3.11/site-packages/anndata/_core/aligned_df.py:68: ImplicitModificationWarning: Transforming to str index.\n",
      "  warnings.warn(\"Transforming to str index.\", ImplicitModificationWarning)\n"
     ]
    },
    {
     "name": "stdout",
     "output_type": "stream",
     "text": [
      "AnnData object with n_obs × n_vars = 500000 × 32738\n",
      "    obs: 'Tcell_UCell', 'Bcell_UCell', 'CD4T_UCell', 'CD8T_UCell'\n",
      "    var: 'gene_ids'\n"
     ]
    }
   ],
   "source": [
    "# Extract data matrix\n",
    "X = adata.X  # sparse or dense matrix\n",
    "\n",
    "if not isinstance(X, csr_matrix):\n",
    "    X = csr_matrix(X)\n",
    "\n",
    "n_target_cells = 500000\n",
    "n_per_batch = adata.n_obs\n",
    "n_reps = int(np.ceil(n_target_cells / n_per_batch))\n",
    "\n",
    "sparse_batches = []\n",
    "\n",
    "for i in range(n_reps):\n",
    "    # Shuffle counts across genes for each cell\n",
    "    X_copy = X.copy().tolil()  # easier to modify rows\n",
    "    for row in range(X_copy.shape[0]):\n",
    "        non_zero_idx = X_copy.rows[row]  # indices of non-zero genes\n",
    "        if len(non_zero_idx) > 1:\n",
    "            # shuffle the gene positions\n",
    "            X_copy.data[row] = list(np.random.permutation(X_copy.data[row]))\n",
    "    sparse_batches.append(X_copy.tocsr())\n",
    "\n",
    "# Stack batches vertically\n",
    "X_big = vstack(sparse_batches)[:n_target_cells, :]\n",
    "\n",
    "# Repeat obs metadata\n",
    "obs_big = pd.concat([adata.obs]*n_reps, ignore_index=True)[:n_target_cells]\n",
    "\n",
    "# Create new AnnData object\n",
    "adata_big = AnnData(X=X_big, obs=obs_big, var=adata.var)\n",
    "\n",
    "print(adata_big)\n",
    "\n",
    "adata = adata_big"
   ]
  },
  {
   "cell_type": "markdown",
   "id": "9400ca05-7830-4f38-a007-bcd03f4e9f1b",
   "metadata": {},
   "source": [
    "Define two simple signatures to test"
   ]
  },
  {
   "cell_type": "code",
   "execution_count": 19,
   "id": "17f9ec9e-6df5-4e5a-aa65-95a853e748e7",
   "metadata": {
    "scrolled": true
   },
   "outputs": [],
   "source": [
    "signatures = {\n",
    "    'Tcell': ['CD3D', 'CD3E', 'CD2'],\n",
    "    'Bcell': ['MS4A1', 'CD79A', 'CD79B']\n",
    "}\n"
   ]
  },
  {
   "cell_type": "markdown",
   "id": "a3d99f25-651f-4094-abae-8f9c63c28d11",
   "metadata": {},
   "source": [
    "Run UCell!"
   ]
  },
  {
   "cell_type": "code",
   "execution_count": 20,
   "id": "83cf601f-d091-4da1-9ac2-2b7ec7ca3da2",
   "metadata": {},
   "outputs": [
    {
     "name": "stdout",
     "output_type": "stream",
     "text": [
      "CPU times: user 1min 59s, sys: 11.4 s, total: 2min 10s\n",
      "Wall time: 2min 35s\n"
     ]
    }
   ],
   "source": [
    "%time adata = pyucell.compute_ucell_scores(adata, signatures=signatures, chunk_size=500)"
   ]
  },
  {
   "cell_type": "code",
   "execution_count": null,
   "id": "aebbcaee-f05f-4c25-9918-6b9b92ec041f",
   "metadata": {},
   "outputs": [],
   "source": [
    "%time adata = pyucell.compute_ucell_scores(adata, signatures=signatures, chunk_size=500, n_jobs=16)"
   ]
  },
  {
   "cell_type": "code",
   "execution_count": null,
   "id": "ed9c5991-6908-47a6-b6ab-e0ff9390be5a",
   "metadata": {},
   "outputs": [],
   "source": [
    "%time adata = pyucell.compute_ucell_scores(adata, signatures=signatures, chunk_size=500, n_jobs=8)"
   ]
  },
  {
   "cell_type": "code",
   "execution_count": null,
   "id": "8e37c181-a3de-4fda-830f-1968c3dbf984",
   "metadata": {},
   "outputs": [],
   "source": [
    "%time adata = pyucell.compute_ucell_scores(adata, signatures=signatures, chunk_size=500, n_jobs=4)"
   ]
  },
  {
   "cell_type": "code",
   "execution_count": null,
   "id": "4b873d61-925c-4996-ae02-92ff3315a74f",
   "metadata": {},
   "outputs": [],
   "source": [
    "%time adata = pyucell.compute_ucell_scores(adata, signatures=signatures, chunk_size=500, n_jobs=1)"
   ]
  },
  {
   "cell_type": "code",
   "execution_count": null,
   "id": "8121c694-bbea-494f-814a-33b073350012",
   "metadata": {},
   "outputs": [],
   "source": [
    "%time adata = pyucell.compute_ucell_scores(adata, signatures=signatures, chunk_size=100, n_jobs=8)"
   ]
  },
  {
   "cell_type": "code",
   "execution_count": null,
   "id": "a0178e40-bc5f-432a-a9f4-8d9075ccca78",
   "metadata": {},
   "outputs": [],
   "source": [
    "%time adata = pyucell.compute_ucell_scores(adata, signatures=signatures, chunk_size=1000, n_jobs=8)"
   ]
  },
  {
   "cell_type": "code",
   "execution_count": null,
   "id": "58d718b0-4fa1-444e-bc25-327190507cad",
   "metadata": {},
   "outputs": [],
   "source": [
    "%time adata = pyucell.compute_ucell_scores(adata, signatures=signatures, chunk_size=5000, n_jobs=8)"
   ]
  },
  {
   "cell_type": "code",
   "execution_count": null,
   "id": "e312be31-901b-4b3d-a0df-f5b030ff66ab",
   "metadata": {},
   "outputs": [],
   "source": [
    "%time adata = pyucell.compute_ucell_scores(adata, signatures=signatures, chunk_size=500, n_jobs=8)"
   ]
  },
  {
   "cell_type": "code",
   "execution_count": null,
   "id": "2b836b34-756a-4758-b0a6-d06693c0c4ad",
   "metadata": {},
   "outputs": [],
   "source": []
  }
 ],
 "metadata": {
  "kernelspec": {
   "display_name": "Python 3 (ipykernel)",
   "language": "python",
   "name": "python3"
  },
  "language_info": {
   "codemirror_mode": {
    "name": "ipython",
    "version": 3
   },
   "file_extension": ".py",
   "mimetype": "text/x-python",
   "name": "python",
   "nbconvert_exporter": "python",
   "pygments_lexer": "ipython3",
   "version": "3.11.11"
  }
 },
 "nbformat": 4,
 "nbformat_minor": 5
}
