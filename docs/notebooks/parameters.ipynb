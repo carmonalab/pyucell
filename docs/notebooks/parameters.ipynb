{
 "cells": [
  {
   "cell_type": "markdown",
   "id": "17584646-7428-485c-a801-aea09a8d0fa9",
   "metadata": {},
   "source": [
    "# pyUCell - some important parameters"
   ]
  },
  {
   "cell_type": "markdown",
   "id": "7022dae5-2491-49a9-8486-cd0a1277f3ea",
   "metadata": {},
   "source": [
    "This document describes some important parameters of the pyUCell algorithm, and how they can be adapated depending on your dataset.\n",
    "\n",
    "For a simple pyUCell tutorial refer to: [pyUCell basics](https://pyucell.readthedocs.io/en/latest/notebooks/basic.html#)"
   ]
  },
  {
   "cell_type": "markdown",
   "id": "8c633515-51b5-481a-a9f1-cd9044d53028",
   "metadata": {},
   "source": [
    "## Load example dataset"
   ]
  },
  {
   "cell_type": "code",
   "execution_count": 26,
   "id": "a6715005-6ca7-4a1a-a0db-873ad888e3fa",
   "metadata": {},
   "outputs": [],
   "source": [
    "import scanpy as sc\n",
    "import matplotlib.pyplot as plt\n",
    "import pyucell as uc"
   ]
  },
  {
   "cell_type": "code",
   "execution_count": 32,
   "id": "338c4bd3-093c-475b-8f09-b101ab7b6012",
   "metadata": {},
   "outputs": [],
   "source": [
    "adata = sc.datasets.pbmc3k()"
   ]
  },
  {
   "cell_type": "markdown",
   "id": "d4387cc5-0081-40fb-85a2-38eee84ae393",
   "metadata": {},
   "source": [
    "**Note:** becase UCell scores are based on relative gene ranks, it can be applied both on raw counts or normalized data. As long as the normalization preserves the relative ranks between genes, the results will be equivalent."
   ]
  },
  {
   "cell_type": "markdown",
   "id": "b843524a-386d-4966-868f-c95ce29559e1",
   "metadata": {},
   "source": [
    "## 1. Positive and negative gene sets in signatures"
   ]
  },
  {
   "cell_type": "markdown",
   "id": "9400ca05-7830-4f38-a007-bcd03f4e9f1b",
   "metadata": {},
   "source": [
    "pyUCell supports **positive and negative gene sets** within a signature. Simply append + or - signs to the genes to include them in positive and negative sets, respectively. For example:"
   ]
  },
  {
   "cell_type": "code",
   "execution_count": 47,
   "id": "17f9ec9e-6df5-4e5a-aa65-95a853e748e7",
   "metadata": {
    "scrolled": true
   },
   "outputs": [],
   "source": [
    "signatures = {\n",
    "    \"CD8T\": [\"CD8A+\", \"CD8B+\",\"CD4-\"],\n",
    "    \"CD4T\": [\"CD4+\", \"CD40LG+\", \"CD8A-\",\"CD8B-\"]\n",
    "}"
   ]
  },
  {
   "cell_type": "markdown",
   "id": "a3d99f25-651f-4094-abae-8f9c63c28d11",
   "metadata": {},
   "source": [
    "pyUCell evaluates the positive and negative gene sets separately, then subtracts the scores. The parameter `w_neg` controls the relative weight of the negative gene set compared to the positive set (`w_neg=1.0` means equal weight). Note that the combined score is clipped to zero, to preserve UCell scores in the [0, 1] range."
   ]
  },
  {
   "cell_type": "code",
   "execution_count": 48,
   "id": "83cf601f-d091-4da1-9ac2-2b7ec7ca3da2",
   "metadata": {},
   "outputs": [],
   "source": [
    "uc.compute_ucell_scores(adata, signatures=signatures, w_neg=1)"
   ]
  },
  {
   "cell_type": "code",
   "execution_count": 49,
   "id": "a712b0de-8882-4750-b88c-8b13cce0ab48",
   "metadata": {},
   "outputs": [
    {
     "data": {
      "text/html": [
       "<div>\n",
       "<style scoped>\n",
       "    .dataframe tbody tr th:only-of-type {\n",
       "        vertical-align: middle;\n",
       "    }\n",
       "\n",
       "    .dataframe tbody tr th {\n",
       "        vertical-align: top;\n",
       "    }\n",
       "\n",
       "    .dataframe thead th {\n",
       "        text-align: right;\n",
       "    }\n",
       "</style>\n",
       "<table border=\"1\" class=\"dataframe\">\n",
       "  <thead>\n",
       "    <tr style=\"text-align: right;\">\n",
       "      <th></th>\n",
       "      <th>CD8T_UCell</th>\n",
       "      <th>CD4T_UCell</th>\n",
       "    </tr>\n",
       "    <tr>\n",
       "      <th>index</th>\n",
       "      <th></th>\n",
       "      <th></th>\n",
       "    </tr>\n",
       "  </thead>\n",
       "  <tbody>\n",
       "    <tr>\n",
       "      <th>AAACATACAACCAC-1</th>\n",
       "      <td>0.770771</td>\n",
       "      <td>0.000000</td>\n",
       "    </tr>\n",
       "    <tr>\n",
       "      <th>AAACATTGAGCTAC-1</th>\n",
       "      <td>0.000000</td>\n",
       "      <td>0.000000</td>\n",
       "    </tr>\n",
       "    <tr>\n",
       "      <th>AAACATTGATCAGC-1</th>\n",
       "      <td>0.000000</td>\n",
       "      <td>0.252586</td>\n",
       "    </tr>\n",
       "    <tr>\n",
       "      <th>AAACCGTGCTTCCG-1</th>\n",
       "      <td>0.000000</td>\n",
       "      <td>0.000000</td>\n",
       "    </tr>\n",
       "    <tr>\n",
       "      <th>AAACCGTGTATGCG-1</th>\n",
       "      <td>0.000000</td>\n",
       "      <td>0.000000</td>\n",
       "    </tr>\n",
       "    <tr>\n",
       "      <th>...</th>\n",
       "      <td>...</td>\n",
       "      <td>...</td>\n",
       "    </tr>\n",
       "    <tr>\n",
       "      <th>TTTCGAACTCTCAT-1</th>\n",
       "      <td>0.000000</td>\n",
       "      <td>0.000000</td>\n",
       "    </tr>\n",
       "    <tr>\n",
       "      <th>TTTCTACTGAGGCA-1</th>\n",
       "      <td>0.000000</td>\n",
       "      <td>0.000000</td>\n",
       "    </tr>\n",
       "    <tr>\n",
       "      <th>TTTCTACTTCCTCG-1</th>\n",
       "      <td>0.000000</td>\n",
       "      <td>0.000000</td>\n",
       "    </tr>\n",
       "    <tr>\n",
       "      <th>TTTGCATGAGAGGC-1</th>\n",
       "      <td>0.000000</td>\n",
       "      <td>0.000000</td>\n",
       "    </tr>\n",
       "    <tr>\n",
       "      <th>TTTGCATGCCTCAC-1</th>\n",
       "      <td>0.000000</td>\n",
       "      <td>0.000000</td>\n",
       "    </tr>\n",
       "  </tbody>\n",
       "</table>\n",
       "<p>2700 rows × 2 columns</p>\n",
       "</div>"
      ],
      "text/plain": [
       "                  CD8T_UCell  CD4T_UCell\n",
       "index                                   \n",
       "AAACATACAACCAC-1    0.770771    0.000000\n",
       "AAACATTGAGCTAC-1    0.000000    0.000000\n",
       "AAACATTGATCAGC-1    0.000000    0.252586\n",
       "AAACCGTGCTTCCG-1    0.000000    0.000000\n",
       "AAACCGTGTATGCG-1    0.000000    0.000000\n",
       "...                      ...         ...\n",
       "TTTCGAACTCTCAT-1    0.000000    0.000000\n",
       "TTTCTACTGAGGCA-1    0.000000    0.000000\n",
       "TTTCTACTTCCTCG-1    0.000000    0.000000\n",
       "TTTGCATGAGAGGC-1    0.000000    0.000000\n",
       "TTTGCATGCCTCAC-1    0.000000    0.000000\n",
       "\n",
       "[2700 rows x 2 columns]"
      ]
     },
     "execution_count": 49,
     "metadata": {},
     "output_type": "execute_result"
    }
   ],
   "source": [
    "adata.obs"
   ]
  },
  {
   "cell_type": "markdown",
   "id": "0ae7b062-da8c-4213-a26c-f84ca89a9328",
   "metadata": {},
   "source": [
    "## 2. The max_rank parameter"
   ]
  },
  {
   "cell_type": "code",
   "execution_count": null,
   "id": "c47db47f-2bff-4bf0-80a3-bee2940553ae",
   "metadata": {},
   "outputs": [],
   "source": []
  },
  {
   "cell_type": "markdown",
   "id": "acb3e088-b458-4860-999e-2c7b88ef33fc",
   "metadata": {},
   "source": [
    "## 3. Handling missing genes"
   ]
  },
  {
   "cell_type": "markdown",
   "id": "f9650883-263d-4ae7-9760-05ca3455b336",
   "metadata": {},
   "source": [
    "If a subset of the genes in your signature are absent from the count matrix, how should they be handled?\n",
    "\n",
    "pyUCell offers two alternative ways of handling missing genes:\n",
    "- `missing_genes=\"impute\"` (default): it assumes that absence from the count matrix means zero expression. All values for this gene are imputed to zero.\n",
    "-  `missing_genes=\"skip\"`: simply exclude all missing genes from the signatures; they won't contribute to the scores."
   ]
  },
  {
   "cell_type": "code",
   "execution_count": 36,
   "id": "a06dc169-60ac-4ada-858c-9790c68a079b",
   "metadata": {},
   "outputs": [
    {
     "data": {
      "text/html": [
       "<div>\n",
       "<style scoped>\n",
       "    .dataframe tbody tr th:only-of-type {\n",
       "        vertical-align: middle;\n",
       "    }\n",
       "\n",
       "    .dataframe tbody tr th {\n",
       "        vertical-align: top;\n",
       "    }\n",
       "\n",
       "    .dataframe thead th {\n",
       "        text-align: right;\n",
       "    }\n",
       "</style>\n",
       "<table border=\"1\" class=\"dataframe\">\n",
       "  <thead>\n",
       "    <tr style=\"text-align: right;\">\n",
       "      <th></th>\n",
       "      <th>CD8T_UCell</th>\n",
       "      <th>CD4T_UCell</th>\n",
       "    </tr>\n",
       "    <tr>\n",
       "      <th>index</th>\n",
       "      <th></th>\n",
       "      <th></th>\n",
       "    </tr>\n",
       "  </thead>\n",
       "  <tbody>\n",
       "    <tr>\n",
       "      <th>AAACATACAACCAC-1</th>\n",
       "      <td>0.514019</td>\n",
       "      <td>0.000000</td>\n",
       "    </tr>\n",
       "    <tr>\n",
       "      <th>AAACATTGAGCTAC-1</th>\n",
       "      <td>0.000000</td>\n",
       "      <td>0.000000</td>\n",
       "    </tr>\n",
       "    <tr>\n",
       "      <th>AAACATTGATCAGC-1</th>\n",
       "      <td>0.000000</td>\n",
       "      <td>0.252586</td>\n",
       "    </tr>\n",
       "    <tr>\n",
       "      <th>AAACCGTGCTTCCG-1</th>\n",
       "      <td>0.000000</td>\n",
       "      <td>0.000000</td>\n",
       "    </tr>\n",
       "    <tr>\n",
       "      <th>AAACCGTGTATGCG-1</th>\n",
       "      <td>0.000000</td>\n",
       "      <td>0.000000</td>\n",
       "    </tr>\n",
       "    <tr>\n",
       "      <th>...</th>\n",
       "      <td>...</td>\n",
       "      <td>...</td>\n",
       "    </tr>\n",
       "    <tr>\n",
       "      <th>TTTCGAACTCTCAT-1</th>\n",
       "      <td>0.000000</td>\n",
       "      <td>0.000000</td>\n",
       "    </tr>\n",
       "    <tr>\n",
       "      <th>TTTCTACTGAGGCA-1</th>\n",
       "      <td>0.000000</td>\n",
       "      <td>0.000000</td>\n",
       "    </tr>\n",
       "    <tr>\n",
       "      <th>TTTCTACTTCCTCG-1</th>\n",
       "      <td>0.000000</td>\n",
       "      <td>0.000000</td>\n",
       "    </tr>\n",
       "    <tr>\n",
       "      <th>TTTGCATGAGAGGC-1</th>\n",
       "      <td>0.000000</td>\n",
       "      <td>0.000000</td>\n",
       "    </tr>\n",
       "    <tr>\n",
       "      <th>TTTGCATGCCTCAC-1</th>\n",
       "      <td>0.000000</td>\n",
       "      <td>0.000000</td>\n",
       "    </tr>\n",
       "  </tbody>\n",
       "</table>\n",
       "<p>2700 rows × 2 columns</p>\n",
       "</div>"
      ],
      "text/plain": [
       "                  CD8T_UCell  CD4T_UCell\n",
       "index                                   \n",
       "AAACATACAACCAC-1    0.514019    0.000000\n",
       "AAACATTGAGCTAC-1    0.000000    0.000000\n",
       "AAACATTGATCAGC-1    0.000000    0.252586\n",
       "AAACCGTGCTTCCG-1    0.000000    0.000000\n",
       "AAACCGTGTATGCG-1    0.000000    0.000000\n",
       "...                      ...         ...\n",
       "TTTCGAACTCTCAT-1    0.000000    0.000000\n",
       "TTTCTACTGAGGCA-1    0.000000    0.000000\n",
       "TTTCTACTTCCTCG-1    0.000000    0.000000\n",
       "TTTGCATGAGAGGC-1    0.000000    0.000000\n",
       "TTTGCATGCCTCAC-1    0.000000    0.000000\n",
       "\n",
       "[2700 rows x 2 columns]"
      ]
     },
     "execution_count": 36,
     "metadata": {},
     "output_type": "execute_result"
    }
   ],
   "source": [
    "signatures = {\n",
    "    \"CD8T\": [\"CD8A+\", \"CD8B+\",\"CD4-\",\"notagene\"]\n",
    "}\n",
    "uc.compute_ucell_scores(adata, signatures=signatures, missing_genes=\"impute\")\n",
    "adata.obs"
   ]
  },
  {
   "cell_type": "code",
   "execution_count": 38,
   "id": "adf95ea1-fd9f-47e3-acee-4173e122cfeb",
   "metadata": {},
   "outputs": [
    {
     "data": {
      "text/html": [
       "<div>\n",
       "<style scoped>\n",
       "    .dataframe tbody tr th:only-of-type {\n",
       "        vertical-align: middle;\n",
       "    }\n",
       "\n",
       "    .dataframe tbody tr th {\n",
       "        vertical-align: top;\n",
       "    }\n",
       "\n",
       "    .dataframe thead th {\n",
       "        text-align: right;\n",
       "    }\n",
       "</style>\n",
       "<table border=\"1\" class=\"dataframe\">\n",
       "  <thead>\n",
       "    <tr style=\"text-align: right;\">\n",
       "      <th></th>\n",
       "      <th>CD8T_UCell</th>\n",
       "      <th>CD4T_UCell</th>\n",
       "    </tr>\n",
       "    <tr>\n",
       "      <th>index</th>\n",
       "      <th></th>\n",
       "      <th></th>\n",
       "    </tr>\n",
       "  </thead>\n",
       "  <tbody>\n",
       "    <tr>\n",
       "      <th>AAACATACAACCAC-1</th>\n",
       "      <td>0.770771</td>\n",
       "      <td>0.000000</td>\n",
       "    </tr>\n",
       "    <tr>\n",
       "      <th>AAACATTGAGCTAC-1</th>\n",
       "      <td>0.000000</td>\n",
       "      <td>0.000000</td>\n",
       "    </tr>\n",
       "    <tr>\n",
       "      <th>AAACATTGATCAGC-1</th>\n",
       "      <td>0.000000</td>\n",
       "      <td>0.252586</td>\n",
       "    </tr>\n",
       "    <tr>\n",
       "      <th>AAACCGTGCTTCCG-1</th>\n",
       "      <td>0.000000</td>\n",
       "      <td>0.000000</td>\n",
       "    </tr>\n",
       "    <tr>\n",
       "      <th>AAACCGTGTATGCG-1</th>\n",
       "      <td>0.000000</td>\n",
       "      <td>0.000000</td>\n",
       "    </tr>\n",
       "    <tr>\n",
       "      <th>...</th>\n",
       "      <td>...</td>\n",
       "      <td>...</td>\n",
       "    </tr>\n",
       "    <tr>\n",
       "      <th>TTTCGAACTCTCAT-1</th>\n",
       "      <td>0.000000</td>\n",
       "      <td>0.000000</td>\n",
       "    </tr>\n",
       "    <tr>\n",
       "      <th>TTTCTACTGAGGCA-1</th>\n",
       "      <td>0.000000</td>\n",
       "      <td>0.000000</td>\n",
       "    </tr>\n",
       "    <tr>\n",
       "      <th>TTTCTACTTCCTCG-1</th>\n",
       "      <td>0.000000</td>\n",
       "      <td>0.000000</td>\n",
       "    </tr>\n",
       "    <tr>\n",
       "      <th>TTTGCATGAGAGGC-1</th>\n",
       "      <td>0.000000</td>\n",
       "      <td>0.000000</td>\n",
       "    </tr>\n",
       "    <tr>\n",
       "      <th>TTTGCATGCCTCAC-1</th>\n",
       "      <td>0.000000</td>\n",
       "      <td>0.000000</td>\n",
       "    </tr>\n",
       "  </tbody>\n",
       "</table>\n",
       "<p>2700 rows × 2 columns</p>\n",
       "</div>"
      ],
      "text/plain": [
       "                  CD8T_UCell  CD4T_UCell\n",
       "index                                   \n",
       "AAACATACAACCAC-1    0.770771    0.000000\n",
       "AAACATTGAGCTAC-1    0.000000    0.000000\n",
       "AAACATTGATCAGC-1    0.000000    0.252586\n",
       "AAACCGTGCTTCCG-1    0.000000    0.000000\n",
       "AAACCGTGTATGCG-1    0.000000    0.000000\n",
       "...                      ...         ...\n",
       "TTTCGAACTCTCAT-1    0.000000    0.000000\n",
       "TTTCTACTGAGGCA-1    0.000000    0.000000\n",
       "TTTCTACTTCCTCG-1    0.000000    0.000000\n",
       "TTTGCATGAGAGGC-1    0.000000    0.000000\n",
       "TTTGCATGCCTCAC-1    0.000000    0.000000\n",
       "\n",
       "[2700 rows x 2 columns]"
      ]
     },
     "execution_count": 38,
     "metadata": {},
     "output_type": "execute_result"
    }
   ],
   "source": [
    "uc.compute_ucell_scores(adata, signatures=signatures, missing_genes=\"skip\")\n",
    "adata.obs"
   ]
  },
  {
   "cell_type": "markdown",
   "id": "628e40e9-7c40-4c9a-a925-1e924403ce15",
   "metadata": {},
   "source": [
    "## 4. Parallelization"
   ]
  },
  {
   "cell_type": "markdown",
   "id": "82de55c6-4287-4478-a43f-a8e6f180e69f",
   "metadata": {},
   "source": [
    "Parallelization is handled internally by `joblib` and the `Parallel` module. You may control the number of jobs with the `n_jobs` parameter. By default all available cores are used (`n_jobs=-1`)."
   ]
  },
  {
   "cell_type": "code",
   "execution_count": 43,
   "id": "27511875-fdc4-4fc3-815f-1e5dc5292959",
   "metadata": {},
   "outputs": [
    {
     "name": "stdout",
     "output_type": "stream",
     "text": [
      "CPU times: user 1.3 s, sys: 81.7 ms, total: 1.38 s\n",
      "Wall time: 1.38 s\n"
     ]
    }
   ],
   "source": [
    "%time uc.compute_ucell_scores(adata, signatures=signatures, n_jobs=1)"
   ]
  },
  {
   "cell_type": "code",
   "execution_count": 46,
   "id": "b0003f99-e5d7-41d1-bbbd-7b9d425fd46a",
   "metadata": {},
   "outputs": [
    {
     "name": "stdout",
     "output_type": "stream",
     "text": [
      "CPU times: user 96.7 ms, sys: 97.3 ms, total: 194 ms\n",
      "Wall time: 3.87 s\n"
     ]
    }
   ],
   "source": [
    "%time uc.compute_ucell_scores(adata, signatures=signatures, n_jobs=4)"
   ]
  },
  {
   "cell_type": "code",
   "execution_count": null,
   "id": "907c1cfc-3bed-4fc8-8a6e-90e370c49368",
   "metadata": {},
   "outputs": [],
   "source": []
  }
 ],
 "metadata": {
  "kernelspec": {
   "display_name": "Python 3 (ipykernel)",
   "language": "python",
   "name": "python3"
  },
  "language_info": {
   "codemirror_mode": {
    "name": "ipython",
    "version": 3
   },
   "file_extension": ".py",
   "mimetype": "text/x-python",
   "name": "python",
   "nbconvert_exporter": "python",
   "pygments_lexer": "ipython3",
   "version": "3.11.11"
  }
 },
 "nbformat": 4,
 "nbformat_minor": 5
}
