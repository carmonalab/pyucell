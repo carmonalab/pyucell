{
 "cells": [
  {
   "cell_type": "markdown",
   "id": "17584646-7428-485c-a801-aea09a8d0fa9",
   "metadata": {},
   "source": [
    "# pyUCell - some important parameters"
   ]
  },
  {
   "cell_type": "markdown",
   "id": "7022dae5-2491-49a9-8486-cd0a1277f3ea",
   "metadata": {},
   "source": [
    "This document describes some important parameters of the pyUCell algorithm, and how they can be adapted depending on your dataset.\n",
    "\n",
    "For a simple pyUCell tutorial refer to: [pyUCell basics](https://pyucell.readthedocs.io/en/latest/notebooks/basic.html#)"
   ]
  },
  {
   "cell_type": "markdown",
   "id": "8c633515-51b5-481a-a9f1-cd9044d53028",
   "metadata": {},
   "source": [
    "## Load example dataset"
   ]
  },
  {
   "cell_type": "code",
   "execution_count": 1,
   "id": "a6715005-6ca7-4a1a-a0db-873ad888e3fa",
   "metadata": {},
   "outputs": [],
   "source": [
    "import scanpy as sc\n",
    "import pyucell as uc"
   ]
  },
  {
   "cell_type": "code",
   "execution_count": 2,
   "id": "338c4bd3-093c-475b-8f09-b101ab7b6012",
   "metadata": {},
   "outputs": [],
   "source": [
    "adata = sc.datasets.pbmc3k()"
   ]
  },
  {
   "cell_type": "markdown",
   "id": "d4387cc5-0081-40fb-85a2-38eee84ae393",
   "metadata": {},
   "source": [
    "**Note:** becase UCell scores are based on relative gene ranks, it can be applied both on raw counts or normalized data. As long as the normalization preserves the relative ranks between genes, the results will be equivalent."
   ]
  },
  {
   "cell_type": "markdown",
   "id": "b843524a-386d-4966-868f-c95ce29559e1",
   "metadata": {},
   "source": [
    "## 1. Positive and negative gene sets in signatures"
   ]
  },
  {
   "cell_type": "markdown",
   "id": "9400ca05-7830-4f38-a007-bcd03f4e9f1b",
   "metadata": {},
   "source": [
    "pyUCell supports **positive and negative gene sets** within a signature. Simply append + or - signs to the genes to include them in positive and negative sets, respectively. For example:"
   ]
  },
  {
   "cell_type": "code",
   "execution_count": 3,
   "id": "17f9ec9e-6df5-4e5a-aa65-95a853e748e7",
   "metadata": {
    "scrolled": true
   },
   "outputs": [],
   "source": [
    "signatures = {\"CD8T\": [\"CD8A+\", \"CD8B+\", \"CD4-\"], \"CD4T\": [\"CD4+\", \"CD40LG+\", \"CD8A-\", \"CD8B-\"]}"
   ]
  },
  {
   "cell_type": "markdown",
   "id": "a3d99f25-651f-4094-abae-8f9c63c28d11",
   "metadata": {},
   "source": [
    "pyUCell evaluates the positive and negative gene sets separately, then subtracts the scores. The parameter `w_neg` controls the relative weight of the negative gene set compared to the positive set (`w_neg=1.0` means equal weight). Note that the combined score is clipped to zero, to preserve UCell scores in the [0, 1] range."
   ]
  },
  {
   "cell_type": "code",
   "execution_count": 4,
   "id": "83cf601f-d091-4da1-9ac2-2b7ec7ca3da2",
   "metadata": {},
   "outputs": [],
   "source": [
    "uc.compute_ucell_scores(adata, signatures=signatures, w_neg=1)"
   ]
  },
  {
   "cell_type": "code",
   "execution_count": 5,
   "id": "a712b0de-8882-4750-b88c-8b13cce0ab48",
   "metadata": {},
   "outputs": [
    {
     "data": {
      "text/html": [
       "<div>\n",
       "<style scoped>\n",
       "    .dataframe tbody tr th:only-of-type {\n",
       "        vertical-align: middle;\n",
       "    }\n",
       "\n",
       "    .dataframe tbody tr th {\n",
       "        vertical-align: top;\n",
       "    }\n",
       "\n",
       "    .dataframe thead th {\n",
       "        text-align: right;\n",
       "    }\n",
       "</style>\n",
       "<table border=\"1\" class=\"dataframe\">\n",
       "  <thead>\n",
       "    <tr style=\"text-align: right;\">\n",
       "      <th></th>\n",
       "      <th>CD8T_UCell</th>\n",
       "      <th>CD4T_UCell</th>\n",
       "    </tr>\n",
       "    <tr>\n",
       "      <th>index</th>\n",
       "      <th></th>\n",
       "      <th></th>\n",
       "    </tr>\n",
       "  </thead>\n",
       "  <tbody>\n",
       "    <tr>\n",
       "      <th>AAACATACAACCAC-1</th>\n",
       "      <td>0.770771</td>\n",
       "      <td>0.000000</td>\n",
       "    </tr>\n",
       "    <tr>\n",
       "      <th>AAACATTGAGCTAC-1</th>\n",
       "      <td>0.000000</td>\n",
       "      <td>0.000000</td>\n",
       "    </tr>\n",
       "    <tr>\n",
       "      <th>AAACATTGATCAGC-1</th>\n",
       "      <td>0.000000</td>\n",
       "      <td>0.252586</td>\n",
       "    </tr>\n",
       "    <tr>\n",
       "      <th>AAACCGTGCTTCCG-1</th>\n",
       "      <td>0.000000</td>\n",
       "      <td>0.000000</td>\n",
       "    </tr>\n",
       "    <tr>\n",
       "      <th>AAACCGTGTATGCG-1</th>\n",
       "      <td>0.000000</td>\n",
       "      <td>0.000000</td>\n",
       "    </tr>\n",
       "    <tr>\n",
       "      <th>...</th>\n",
       "      <td>...</td>\n",
       "      <td>...</td>\n",
       "    </tr>\n",
       "    <tr>\n",
       "      <th>TTTCGAACTCTCAT-1</th>\n",
       "      <td>0.000000</td>\n",
       "      <td>0.000000</td>\n",
       "    </tr>\n",
       "    <tr>\n",
       "      <th>TTTCTACTGAGGCA-1</th>\n",
       "      <td>0.000000</td>\n",
       "      <td>0.000000</td>\n",
       "    </tr>\n",
       "    <tr>\n",
       "      <th>TTTCTACTTCCTCG-1</th>\n",
       "      <td>0.000000</td>\n",
       "      <td>0.000000</td>\n",
       "    </tr>\n",
       "    <tr>\n",
       "      <th>TTTGCATGAGAGGC-1</th>\n",
       "      <td>0.000000</td>\n",
       "      <td>0.000000</td>\n",
       "    </tr>\n",
       "    <tr>\n",
       "      <th>TTTGCATGCCTCAC-1</th>\n",
       "      <td>0.000000</td>\n",
       "      <td>0.000000</td>\n",
       "    </tr>\n",
       "  </tbody>\n",
       "</table>\n",
       "<p>2700 rows × 2 columns</p>\n",
       "</div>"
      ],
      "text/plain": [
       "                  CD8T_UCell  CD4T_UCell\n",
       "index                                   \n",
       "AAACATACAACCAC-1    0.770771    0.000000\n",
       "AAACATTGAGCTAC-1    0.000000    0.000000\n",
       "AAACATTGATCAGC-1    0.000000    0.252586\n",
       "AAACCGTGCTTCCG-1    0.000000    0.000000\n",
       "AAACCGTGTATGCG-1    0.000000    0.000000\n",
       "...                      ...         ...\n",
       "TTTCGAACTCTCAT-1    0.000000    0.000000\n",
       "TTTCTACTGAGGCA-1    0.000000    0.000000\n",
       "TTTCTACTTCCTCG-1    0.000000    0.000000\n",
       "TTTGCATGAGAGGC-1    0.000000    0.000000\n",
       "TTTGCATGCCTCAC-1    0.000000    0.000000\n",
       "\n",
       "[2700 rows x 2 columns]"
      ]
     },
     "execution_count": 5,
     "metadata": {},
     "output_type": "execute_result"
    }
   ],
   "source": [
    "adata.obs"
   ]
  },
  {
   "cell_type": "markdown",
   "id": "0ae7b062-da8c-4213-a26c-f84ca89a9328",
   "metadata": {},
   "source": [
    "## 2. The `max_rank` parameter"
   ]
  },
  {
   "cell_type": "markdown",
   "id": "c5a4ef28-1f26-4f3c-b7ce-a4ed0e415c4d",
   "metadata": {},
   "source": [
    "Single-cell data are sparse. In other words, for any given cell only a few hundred/a few thousand genes (out of tens of thousands) are detected with at least one UMI count. Because UCell scores are based on ranking genes by their expression values, it is essential to account for data sparsity when calculating ranks. This is implemented by capping ranks to a `max_rank` parameter, in other words only the top `max_rank` genes are ranked, and the rest are assumed equivalent at the lowest ranking value.\n",
    "\n",
    "It is often useful to adjust the `max_rank` depending on the sparsity of your dataset. A good rule of thumb is to examine the median number of expressed genes per cell, and set `max_rank` in that order of magnitude. For example, for the test dataset:"
   ]
  },
  {
   "cell_type": "code",
   "execution_count": 7,
   "id": "8d173d8e-1884-43b8-8d1a-6f13b45bf706",
   "metadata": {},
   "outputs": [
    {
     "data": {
      "image/png": "[encoded data removed]",
      "text/plain": [
       "<Figure size 804.6x480 with 1 Axes>"
      ]
     },
     "metadata": {},
     "output_type": "display_data"
    }
   ],
   "source": [
    "aa = adata.copy()\n",
    "sc.pp.calculate_qc_metrics(aa, inplace=True)\n",
    "\n",
    "sc.pl.violin(aa, \"n_genes_by_counts\", jitter=0.4, size=1, log=True, groupby=None)"
   ]
  },
  {
   "cell_type": "markdown",
   "id": "30f1b325-d724-4ed7-8d77-f6f72c476755",
   "metadata": {},
   "source": [
    "This dataset has relatively low depth, so it is advisable to choose a `max_rank` around `800-1000` (from the default `1500`)"
   ]
  },
  {
   "cell_type": "code",
   "execution_count": 8,
   "id": "f9737788-5740-4c5f-b327-fad793ba48c7",
   "metadata": {},
   "outputs": [],
   "source": [
    "uc.compute_ucell_scores(adata, signatures=signatures, max_rank=800)"
   ]
  },
  {
   "cell_type": "markdown",
   "id": "b2a096df-bfc9-4049-8b95-5f3f843f2ca9",
   "metadata": {},
   "source": [
    "This is even more important when applying pyUCell to technologies/modalities of much lower dimensionality, for example probe-based spatial transcriptomics data (e.g. Xenium, CosMx), or antibody tags (ADT) in CITE-seq experiments. Xenium panels contain a few hundred/a few thousand genes; CITE-seq can detect a few hundred proteins, as opposed to thousands of genes in scRNA-seq. The `max_rank` parameter should then also be adjusted to reflect the new dimensionality and set to no more than the number of probes in the panel."
   ]
  },
  {
   "cell_type": "markdown",
   "id": "acb3e088-b458-4860-999e-2c7b88ef33fc",
   "metadata": {},
   "source": [
    "## 3. Handling missing genes"
   ]
  },
  {
   "cell_type": "markdown",
   "id": "f9650883-263d-4ae7-9760-05ca3455b336",
   "metadata": {},
   "source": [
    "If a subset of the genes in your signature are absent from the count matrix, how should they be handled?\n",
    "\n",
    "pyUCell offers two alternative ways of handling missing genes:\n",
    "- `missing_genes=\"impute\"` (default): it assumes that absence from the count matrix means zero expression. All values for this gene are imputed to zero.\n",
    "-  `missing_genes=\"skip\"`: simply exclude all missing genes from the signatures; they won't contribute to the scores."
   ]
  },
  {
   "cell_type": "code",
   "execution_count": 9,
   "id": "a06dc169-60ac-4ada-858c-9790c68a079b",
   "metadata": {},
   "outputs": [
    {
     "data": {
      "text/html": [
       "<div>\n",
       "<style scoped>\n",
       "    .dataframe tbody tr th:only-of-type {\n",
       "        vertical-align: middle;\n",
       "    }\n",
       "\n",
       "    .dataframe tbody tr th {\n",
       "        vertical-align: top;\n",
       "    }\n",
       "\n",
       "    .dataframe thead th {\n",
       "        text-align: right;\n",
       "    }\n",
       "</style>\n",
       "<table border=\"1\" class=\"dataframe\">\n",
       "  <thead>\n",
       "    <tr style=\"text-align: right;\">\n",
       "      <th></th>\n",
       "      <th>CD8T_UCell</th>\n",
       "      <th>CD4T_UCell</th>\n",
       "    </tr>\n",
       "    <tr>\n",
       "      <th>index</th>\n",
       "      <th></th>\n",
       "      <th></th>\n",
       "    </tr>\n",
       "  </thead>\n",
       "  <tbody>\n",
       "    <tr>\n",
       "      <th>AAACATACAACCAC-1</th>\n",
       "      <td>0.514019</td>\n",
       "      <td>0.000000</td>\n",
       "    </tr>\n",
       "    <tr>\n",
       "      <th>AAACATTGAGCTAC-1</th>\n",
       "      <td>0.000000</td>\n",
       "      <td>0.000000</td>\n",
       "    </tr>\n",
       "    <tr>\n",
       "      <th>AAACATTGATCAGC-1</th>\n",
       "      <td>0.000000</td>\n",
       "      <td>0.035692</td>\n",
       "    </tr>\n",
       "    <tr>\n",
       "      <th>AAACCGTGCTTCCG-1</th>\n",
       "      <td>0.000000</td>\n",
       "      <td>0.000000</td>\n",
       "    </tr>\n",
       "    <tr>\n",
       "      <th>AAACCGTGTATGCG-1</th>\n",
       "      <td>0.000000</td>\n",
       "      <td>0.000000</td>\n",
       "    </tr>\n",
       "    <tr>\n",
       "      <th>...</th>\n",
       "      <td>...</td>\n",
       "      <td>...</td>\n",
       "    </tr>\n",
       "    <tr>\n",
       "      <th>TTTCGAACTCTCAT-1</th>\n",
       "      <td>0.000000</td>\n",
       "      <td>0.000000</td>\n",
       "    </tr>\n",
       "    <tr>\n",
       "      <th>TTTCTACTGAGGCA-1</th>\n",
       "      <td>0.000000</td>\n",
       "      <td>0.000000</td>\n",
       "    </tr>\n",
       "    <tr>\n",
       "      <th>TTTCTACTTCCTCG-1</th>\n",
       "      <td>0.000000</td>\n",
       "      <td>0.000000</td>\n",
       "    </tr>\n",
       "    <tr>\n",
       "      <th>TTTGCATGAGAGGC-1</th>\n",
       "      <td>0.000000</td>\n",
       "      <td>0.000000</td>\n",
       "    </tr>\n",
       "    <tr>\n",
       "      <th>TTTGCATGCCTCAC-1</th>\n",
       "      <td>0.000000</td>\n",
       "      <td>0.000000</td>\n",
       "    </tr>\n",
       "  </tbody>\n",
       "</table>\n",
       "<p>2700 rows × 2 columns</p>\n",
       "</div>"
      ],
      "text/plain": [
       "                  CD8T_UCell  CD4T_UCell\n",
       "index                                   \n",
       "AAACATACAACCAC-1    0.514019    0.000000\n",
       "AAACATTGAGCTAC-1    0.000000    0.000000\n",
       "AAACATTGATCAGC-1    0.000000    0.035692\n",
       "AAACCGTGCTTCCG-1    0.000000    0.000000\n",
       "AAACCGTGTATGCG-1    0.000000    0.000000\n",
       "...                      ...         ...\n",
       "TTTCGAACTCTCAT-1    0.000000    0.000000\n",
       "TTTCTACTGAGGCA-1    0.000000    0.000000\n",
       "TTTCTACTTCCTCG-1    0.000000    0.000000\n",
       "TTTGCATGAGAGGC-1    0.000000    0.000000\n",
       "TTTGCATGCCTCAC-1    0.000000    0.000000\n",
       "\n",
       "[2700 rows x 2 columns]"
      ]
     },
     "execution_count": 9,
     "metadata": {},
     "output_type": "execute_result"
    }
   ],
   "source": [
    "signatures = {\"CD8T\": [\"CD8A+\", \"CD8B+\", \"CD4-\", \"notagene\"]}\n",
    "uc.compute_ucell_scores(adata, signatures=signatures, missing_genes=\"impute\")\n",
    "adata.obs"
   ]
  },
  {
   "cell_type": "code",
   "execution_count": 10,
   "id": "adf95ea1-fd9f-47e3-acee-4173e122cfeb",
   "metadata": {},
   "outputs": [
    {
     "data": {
      "text/html": [
       "<div>\n",
       "<style scoped>\n",
       "    .dataframe tbody tr th:only-of-type {\n",
       "        vertical-align: middle;\n",
       "    }\n",
       "\n",
       "    .dataframe tbody tr th {\n",
       "        vertical-align: top;\n",
       "    }\n",
       "\n",
       "    .dataframe thead th {\n",
       "        text-align: right;\n",
       "    }\n",
       "</style>\n",
       "<table border=\"1\" class=\"dataframe\">\n",
       "  <thead>\n",
       "    <tr style=\"text-align: right;\">\n",
       "      <th></th>\n",
       "      <th>CD8T_UCell</th>\n",
       "      <th>CD4T_UCell</th>\n",
       "    </tr>\n",
       "    <tr>\n",
       "      <th>index</th>\n",
       "      <th></th>\n",
       "      <th></th>\n",
       "    </tr>\n",
       "  </thead>\n",
       "  <tbody>\n",
       "    <tr>\n",
       "      <th>AAACATACAACCAC-1</th>\n",
       "      <td>0.770771</td>\n",
       "      <td>0.000000</td>\n",
       "    </tr>\n",
       "    <tr>\n",
       "      <th>AAACATTGAGCTAC-1</th>\n",
       "      <td>0.000000</td>\n",
       "      <td>0.000000</td>\n",
       "    </tr>\n",
       "    <tr>\n",
       "      <th>AAACATTGATCAGC-1</th>\n",
       "      <td>0.000000</td>\n",
       "      <td>0.035692</td>\n",
       "    </tr>\n",
       "    <tr>\n",
       "      <th>AAACCGTGCTTCCG-1</th>\n",
       "      <td>0.000000</td>\n",
       "      <td>0.000000</td>\n",
       "    </tr>\n",
       "    <tr>\n",
       "      <th>AAACCGTGTATGCG-1</th>\n",
       "      <td>0.000000</td>\n",
       "      <td>0.000000</td>\n",
       "    </tr>\n",
       "    <tr>\n",
       "      <th>...</th>\n",
       "      <td>...</td>\n",
       "      <td>...</td>\n",
       "    </tr>\n",
       "    <tr>\n",
       "      <th>TTTCGAACTCTCAT-1</th>\n",
       "      <td>0.000000</td>\n",
       "      <td>0.000000</td>\n",
       "    </tr>\n",
       "    <tr>\n",
       "      <th>TTTCTACTGAGGCA-1</th>\n",
       "      <td>0.000000</td>\n",
       "      <td>0.000000</td>\n",
       "    </tr>\n",
       "    <tr>\n",
       "      <th>TTTCTACTTCCTCG-1</th>\n",
       "      <td>0.000000</td>\n",
       "      <td>0.000000</td>\n",
       "    </tr>\n",
       "    <tr>\n",
       "      <th>TTTGCATGAGAGGC-1</th>\n",
       "      <td>0.000000</td>\n",
       "      <td>0.000000</td>\n",
       "    </tr>\n",
       "    <tr>\n",
       "      <th>TTTGCATGCCTCAC-1</th>\n",
       "      <td>0.000000</td>\n",
       "      <td>0.000000</td>\n",
       "    </tr>\n",
       "  </tbody>\n",
       "</table>\n",
       "<p>2700 rows × 2 columns</p>\n",
       "</div>"
      ],
      "text/plain": [
       "                  CD8T_UCell  CD4T_UCell\n",
       "index                                   \n",
       "AAACATACAACCAC-1    0.770771    0.000000\n",
       "AAACATTGAGCTAC-1    0.000000    0.000000\n",
       "AAACATTGATCAGC-1    0.000000    0.035692\n",
       "AAACCGTGCTTCCG-1    0.000000    0.000000\n",
       "AAACCGTGTATGCG-1    0.000000    0.000000\n",
       "...                      ...         ...\n",
       "TTTCGAACTCTCAT-1    0.000000    0.000000\n",
       "TTTCTACTGAGGCA-1    0.000000    0.000000\n",
       "TTTCTACTTCCTCG-1    0.000000    0.000000\n",
       "TTTGCATGAGAGGC-1    0.000000    0.000000\n",
       "TTTGCATGCCTCAC-1    0.000000    0.000000\n",
       "\n",
       "[2700 rows x 2 columns]"
      ]
     },
     "execution_count": 10,
     "metadata": {},
     "output_type": "execute_result"
    }
   ],
   "source": [
    "uc.compute_ucell_scores(adata, signatures=signatures, missing_genes=\"skip\")\n",
    "adata.obs"
   ]
  },
  {
   "cell_type": "markdown",
   "id": "5fe418cb-1f42-4cdd-b5db-ef334e60f640",
   "metadata": {},
   "source": [
    "## 4. Chunk size"
   ]
  },
  {
   "cell_type": "markdown",
   "id": "5fd92bef-6be6-4eda-bc23-01eae048b9ae",
   "metadata": {},
   "source": [
    "UCell scores are calculated individually for each cell (though they may be later [smoothed](https://pyucell.readthedocs.io/en/latest/notebooks/knn.html) by nearest-neighbor similarity). This means that computation can be easily split into batches, reducing the computational footprint of gene ranking and enabling parallel processing (see below). The size of the batches is controlled by the `chunk_size` parameter. Large chunks take up more RAM, while small chunk sizes have large overhead from dataset splitting and merging. A sweet spot for `chunk_size` is usually in the order of 100-1000 cells per batch."
   ]
  },
  {
   "cell_type": "code",
   "execution_count": 11,
   "id": "b6b0cacc-f978-4ce7-b275-f322be7c51ab",
   "metadata": {},
   "outputs": [],
   "source": [
    "uc.compute_ucell_scores(adata, signatures=signatures, chunk_size=100)"
   ]
  },
  {
   "cell_type": "markdown",
   "id": "628e40e9-7c40-4c9a-a925-1e924403ce15",
   "metadata": {},
   "source": [
    "## 5. Parallelization"
   ]
  },
  {
   "cell_type": "markdown",
   "id": "82de55c6-4287-4478-a43f-a8e6f180e69f",
   "metadata": {},
   "source": [
    "Parallelization is handled internally by `joblib` and the `Parallel` module. You may control the number of jobs with the `n_jobs` parameter. By default all available cores are used (`n_jobs=-1`)."
   ]
  },
  {
   "cell_type": "code",
   "execution_count": 14,
   "id": "27511875-fdc4-4fc3-815f-1e5dc5292959",
   "metadata": {},
   "outputs": [
    {
     "name": "stdout",
     "output_type": "stream",
     "text": [
      "CPU times: user 774 ms, sys: 18.8 ms, total: 793 ms\n",
      "Wall time: 789 ms\n"
     ]
    }
   ],
   "source": [
    "%time uc.compute_ucell_scores(adata, signatures=signatures, n_jobs=1)"
   ]
  },
  {
   "cell_type": "code",
   "execution_count": 15,
   "id": "b0003f99-e5d7-41d1-bbbd-7b9d425fd46a",
   "metadata": {},
   "outputs": [
    {
     "name": "stdout",
     "output_type": "stream",
     "text": [
      "CPU times: user 46.3 ms, sys: 17.2 ms, total: 63.5 ms\n",
      "Wall time: 474 ms\n"
     ]
    }
   ],
   "source": [
    "%time uc.compute_ucell_scores(adata, signatures=signatures, n_jobs=4)"
   ]
  },
  {
   "cell_type": "markdown",
   "id": "efabd22b-536e-4a78-9a30-330ee3358a77",
   "metadata": {},
   "source": [
    "## References"
   ]
  },
  {
   "cell_type": "markdown",
   "id": "ccab6d0a-880b-4590-9d34-88c62bf3b50f",
   "metadata": {},
   "source": [
    "If you used UCell in your research, please cite:\n",
    "\n",
    "**UCell: robust and scalable single-cell gene signature scoring.** Massimo Andreatta & Santiago J Carmona (2021) \n",
    "CSBJ - [doi.org/10.1016/j.csbj.2021.06.043](https://doi.org/10.1016/j.csbj.2021.06.043)"
   ]
  }
 ],
 "metadata": {
  "kernelspec": {
   "display_name": "Python 3 (ipykernel)",
   "language": "python",
   "name": "python3"
  },
  "language_info": {
   "codemirror_mode": {
    "name": "ipython",
    "version": 3
   },
   "file_extension": ".py",
   "mimetype": "text/x-python",
   "name": "python",
   "nbconvert_exporter": "python",
   "pygments_lexer": "ipython3",
   "version": "3.11.11"
  }
 },
 "nbformat": 4,
 "nbformat_minor": 5
}
